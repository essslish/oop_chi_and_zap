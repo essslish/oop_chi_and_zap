{
  "nbformat": 4,
  "nbformat_minor": 0,
  "metadata": {
    "colab": {
      "provenance": [],
      "mount_file_id": "1FctfhFIrubVnEg2IhyOVjsctoZNFMwEI",
      "authorship_tag": "ABX9TyPLl/oCwXbw/KjdRYpVN7io",
      "include_colab_link": true
    },
    "kernelspec": {
      "name": "python3",
      "display_name": "Python 3"
    },
    "language_info": {
      "name": "python"
    }
  },
  "cells": [
    {
      "cell_type": "markdown",
      "metadata": {
        "id": "view-in-github",
        "colab_type": "text"
      },
      "source": [
        "<a href=\"https://colab.research.google.com/github/essslish/oop_chi_and_zap/blob/main/oop_lab_2.ipynb\" target=\"_parent\"><img src=\"https://colab.research.google.com/assets/colab-badge.svg\" alt=\"Open In Colab\"/></a>"
      ]
    },
    {
      "cell_type": "code",
      "execution_count": 7,
      "metadata": {
        "colab": {
          "base_uri": "https://localhost:8080/",
          "height": 408
        },
        "id": "L73kYuaj37ig",
        "outputId": "6edef569-3cb1-46f4-fb47-454ccf646b49"
      },
      "outputs": [
        {
          "output_type": "stream",
          "name": "stdout",
          "text": [
            "Drive already mounted at /content/drive; to attempt to forcibly remount, call drive.mount(\"/content/drive\", force_remount=True).\n",
            "Введите путь к файлу-справочнику (CSV/XML) или введите 'exit' для выхода.\n",
            "Введите путь к файлу-справочнику (CSV/XML) или введите 'exit' для выхода: https://drive.google.com/file/d/1NDlRjl74fgRZ7P15fN0gU38RnizCHvbh/view?usp=drive_link\n",
            "Файл не найден. Попробуйте снова.\n"
          ]
        },
        {
          "output_type": "error",
          "ename": "KeyboardInterrupt",
          "evalue": "Interrupted by user",
          "traceback": [
            "\u001b[0;31m---------------------------------------------------------------------------\u001b[0m",
            "\u001b[0;31mKeyboardInterrupt\u001b[0m                         Traceback (most recent call last)",
            "\u001b[0;32m<ipython-input-7-91bd3d4a58f1>\u001b[0m in \u001b[0;36m<cell line: 112>\u001b[0;34m()\u001b[0m\n\u001b[1;32m    111\u001b[0m \u001b[0;34m\u001b[0m\u001b[0m\n\u001b[1;32m    112\u001b[0m \u001b[0;32mif\u001b[0m \u001b[0m__name__\u001b[0m \u001b[0;34m==\u001b[0m \u001b[0;34m\"__main__\"\u001b[0m\u001b[0;34m:\u001b[0m\u001b[0;34m\u001b[0m\u001b[0;34m\u001b[0m\u001b[0m\n\u001b[0;32m--> 113\u001b[0;31m     \u001b[0mmain\u001b[0m\u001b[0;34m(\u001b[0m\u001b[0;34m)\u001b[0m\u001b[0;34m\u001b[0m\u001b[0;34m\u001b[0m\u001b[0m\n\u001b[0m",
            "\u001b[0;32m<ipython-input-7-91bd3d4a58f1>\u001b[0m in \u001b[0;36mmain\u001b[0;34m()\u001b[0m\n\u001b[1;32m     79\u001b[0m \u001b[0;34m\u001b[0m\u001b[0m\n\u001b[1;32m     80\u001b[0m     \u001b[0;32mwhile\u001b[0m \u001b[0;32mTrue\u001b[0m\u001b[0;34m:\u001b[0m\u001b[0;34m\u001b[0m\u001b[0;34m\u001b[0m\u001b[0m\n\u001b[0;32m---> 81\u001b[0;31m         \u001b[0mfile_path\u001b[0m \u001b[0;34m=\u001b[0m \u001b[0minput\u001b[0m\u001b[0;34m(\u001b[0m\u001b[0;34m\"Введите путь к файлу-справочнику (CSV/XML) или введите 'exit' для выхода: \"\u001b[0m\u001b[0;34m)\u001b[0m\u001b[0;34m.\u001b[0m\u001b[0mstrip\u001b[0m\u001b[0;34m(\u001b[0m\u001b[0;34m)\u001b[0m\u001b[0;34m\u001b[0m\u001b[0;34m\u001b[0m\u001b[0m\n\u001b[0m\u001b[1;32m     82\u001b[0m \u001b[0;34m\u001b[0m\u001b[0m\n\u001b[1;32m     83\u001b[0m         \u001b[0;32mif\u001b[0m \u001b[0mfile_path\u001b[0m\u001b[0;34m.\u001b[0m\u001b[0mlower\u001b[0m\u001b[0;34m(\u001b[0m\u001b[0;34m)\u001b[0m \u001b[0;34m==\u001b[0m \u001b[0;34m'exit'\u001b[0m\u001b[0;34m:\u001b[0m\u001b[0;34m\u001b[0m\u001b[0;34m\u001b[0m\u001b[0m\n",
            "\u001b[0;32m/usr/local/lib/python3.10/dist-packages/ipykernel/kernelbase.py\u001b[0m in \u001b[0;36mraw_input\u001b[0;34m(self, prompt)\u001b[0m\n\u001b[1;32m    849\u001b[0m                 \u001b[0;34m\"raw_input was called, but this frontend does not support input requests.\"\u001b[0m\u001b[0;34m\u001b[0m\u001b[0;34m\u001b[0m\u001b[0m\n\u001b[1;32m    850\u001b[0m             )\n\u001b[0;32m--> 851\u001b[0;31m         return self._input_request(str(prompt),\n\u001b[0m\u001b[1;32m    852\u001b[0m             \u001b[0mself\u001b[0m\u001b[0;34m.\u001b[0m\u001b[0m_parent_ident\u001b[0m\u001b[0;34m,\u001b[0m\u001b[0;34m\u001b[0m\u001b[0;34m\u001b[0m\u001b[0m\n\u001b[1;32m    853\u001b[0m             \u001b[0mself\u001b[0m\u001b[0;34m.\u001b[0m\u001b[0m_parent_header\u001b[0m\u001b[0;34m,\u001b[0m\u001b[0;34m\u001b[0m\u001b[0;34m\u001b[0m\u001b[0m\n",
            "\u001b[0;32m/usr/local/lib/python3.10/dist-packages/ipykernel/kernelbase.py\u001b[0m in \u001b[0;36m_input_request\u001b[0;34m(self, prompt, ident, parent, password)\u001b[0m\n\u001b[1;32m    893\u001b[0m             \u001b[0;32mexcept\u001b[0m \u001b[0mKeyboardInterrupt\u001b[0m\u001b[0;34m:\u001b[0m\u001b[0;34m\u001b[0m\u001b[0;34m\u001b[0m\u001b[0m\n\u001b[1;32m    894\u001b[0m                 \u001b[0;31m# re-raise KeyboardInterrupt, to truncate traceback\u001b[0m\u001b[0;34m\u001b[0m\u001b[0;34m\u001b[0m\u001b[0m\n\u001b[0;32m--> 895\u001b[0;31m                 \u001b[0;32mraise\u001b[0m \u001b[0mKeyboardInterrupt\u001b[0m\u001b[0;34m(\u001b[0m\u001b[0;34m\"Interrupted by user\"\u001b[0m\u001b[0;34m)\u001b[0m \u001b[0;32mfrom\u001b[0m \u001b[0;32mNone\u001b[0m\u001b[0;34m\u001b[0m\u001b[0;34m\u001b[0m\u001b[0m\n\u001b[0m\u001b[1;32m    896\u001b[0m             \u001b[0;32mexcept\u001b[0m \u001b[0mException\u001b[0m \u001b[0;32mas\u001b[0m \u001b[0me\u001b[0m\u001b[0;34m:\u001b[0m\u001b[0;34m\u001b[0m\u001b[0;34m\u001b[0m\u001b[0m\n\u001b[1;32m    897\u001b[0m                 \u001b[0mself\u001b[0m\u001b[0;34m.\u001b[0m\u001b[0mlog\u001b[0m\u001b[0;34m.\u001b[0m\u001b[0mwarning\u001b[0m\u001b[0;34m(\u001b[0m\u001b[0;34m\"Invalid Message:\"\u001b[0m\u001b[0;34m,\u001b[0m \u001b[0mexc_info\u001b[0m\u001b[0;34m=\u001b[0m\u001b[0;32mTrue\u001b[0m\u001b[0;34m)\u001b[0m\u001b[0;34m\u001b[0m\u001b[0;34m\u001b[0m\u001b[0m\n",
            "\u001b[0;31mKeyboardInterrupt\u001b[0m: Interrupted by user"
          ]
        }
      ],
      "source": [
        "import csv\n",
        "import xml.etree.ElementTree as ET\n",
        "import pandas as pd\n",
        "import os\n",
        "import time\n",
        "from google.colab import drive\n",
        "\n",
        "drive.mount('/content/drive')\n",
        "\n",
        "class CSVFileLoader:\n",
        "    def __init__(self, file_path):\n",
        "        self.file_path = file_path\n",
        "\n",
        "    def load_data(self):\n",
        "        \"\"\"Загружает данные из CSV файла в DataFrame.\"\"\"\n",
        "        return pd.read_csv(self.file_path, sep=';')\n",
        "\n",
        "\n",
        "class XMLFileLoader:\n",
        "    def __init__(self, file_path):\n",
        "        self.file_path = file_path\n",
        "\n",
        "    def load_data(self):\n",
        "        \"\"\"Загружает данные из XML файла в DataFrame.\"\"\"\n",
        "        data = []\n",
        "        for event, elem in ET.iterparse(self.file_path, events=('end',)):\n",
        "            if elem.tag == 'item':\n",
        "                city = elem.get('city')\n",
        "                street = elem.get('street')\n",
        "                house = elem.get('house')\n",
        "                floor = int(elem.get('floor'))\n",
        "                data.append({city, street, house, floor})\n",
        "                elem.clear()\n",
        "        return pd.DataFrame(data)\n",
        "\n",
        "\n",
        "class DataAnalyzer:\n",
        "    def __init__(self, df):\n",
        "        self.df = df\n",
        "\n",
        "    def analyze_data(self):\n",
        "        start_time = time.time()\n",
        "        duplicates = self.df.groupby(['city', 'street', 'house']).size()\n",
        "        duplicates = duplicates[duplicates > 1].reset_index(name='count')\n",
        "\n",
        "        floors_count = self.df.groupby(['city', 'floor']).size().unstack(fill_value=0)\n",
        "\n",
        "        processing_time = time.time() - start_time\n",
        "        return duplicates, floors_count, processing_time\n",
        "\n",
        "\n",
        "class ResultPrinter:\n",
        "    @staticmethod\n",
        "    def print_results(duplicates, floors_count, processing_time):\n",
        "        if not duplicates.empty:\n",
        "            print(\"Дублирующиеся записи:\")\n",
        "            print(duplicates)\n",
        "        else:\n",
        "            print(\"Дублирующихся записей не найдено.\")\n",
        "\n",
        "\n",
        "        print(\"Количество зданий по этажности в каждом городе:\")\n",
        "        for city, counts in floors_count.iterrows():\n",
        "            print(\"Город: {}\".format(city))\n",
        "            for floor, count in counts.items():\n",
        "                print(\"{}-этажные: {}\".format(floor, count))\n",
        "\n",
        "        print(\"Время обработки файла: {:.4f} секунд.\".format(processing_time))\n",
        "\n",
        "\n",
        "def main():\n",
        "    print(\"Введите путь к файлу-справочнику (CSV/XML) или введите 'exit' для выхода.\")\n",
        "\n",
        "    while True:\n",
        "        file_path = input(\"Введите путь к файлу-справочнику (CSV/XML) или введите 'exit' для выхода: \").strip()\n",
        "\n",
        "        if file_path.lower() == 'exit':\n",
        "            print(\"Завершение работы.\")\n",
        "            break\n",
        "\n",
        "        if not os.path.isfile(file_path):\n",
        "            print(\"Файл не найден. Попробуйте снова.\")\n",
        "            continue\n",
        "\n",
        "        try:\n",
        "            if file_path.lower().endswith('.csv'):\n",
        "                loader = CSVFileLoader(file_path)\n",
        "            elif file_path.lower().endswith('.xml'):\n",
        "                loader = XMLFileLoader(file_path)\n",
        "            else:\n",
        "                raise ValueError(\"Неподдерживаемый формат файла. Пожалуйста, используйте CSV или XML.\")\n",
        "\n",
        "            df = loader.load_data()\n",
        "            analyzer = DataAnalyzer(df)\n",
        "            duplicates, floors_count, processing_time = analyzer.analyze_data()\n",
        "            ResultPrinter.print_results(duplicates, floors_count, processing_time)\n",
        "\n",
        "        except ValueError as ve:\n",
        "            print(\"Ошибка: {}\".format(ve))\n",
        "        except Exception as e:\n",
        "            print(\"Произошла ошибка: {}\".format(e))\n",
        "\n",
        "\n",
        "if __name__ == \"__main__\":\n",
        "    main()"
      ]
    },
    {
      "cell_type": "markdown",
      "source": [],
      "metadata": {
        "id": "DckKJx9UCL1P"
      }
    }
  ]
}